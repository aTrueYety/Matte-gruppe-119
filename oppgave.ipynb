{
 "cells": [
  {
   "cell_type": "markdown",
   "id": "00867e92",
   "metadata": {},
   "source": [
    "# Elementmetoden\n",
    "\n",
    "## Del 1: Fagverk, innføring\n",
    "\n",
    "Vi skal begynne å se på en viktig anvendelse av data i ingeniørfag, nemlig elementmetoden. Det er en teknikk som reduserer kompliserte problemer til matematiske ligninger slik vi ser i matematikk 1, f eks lineære systemer. Elementmetoden omfatter flere relatert teknikker, og for å holde orden over koden er objekt-orientert programmering ofte nyttig.\n",
    "\n",
    "Typisk krever vi både geometrisk og matematisk data, som egner seg godt til implementering som klasser. Et enkelt eksempel ser studenter som tar mekanikk 1, f eks bygg- og maskiningeniører. Det er 2-dimensjonale fagverk. Under ligger en bro, som danner geometrien til systemet. Koden som følger er skrevet av en matematiker og følger slett ikke god praksis!"
   ]
  },
  {
   "cell_type": "code",
   "execution_count": 6,
   "id": "c3978b13",
   "metadata": {},
   "outputs": [
    {
     "name": "stdout",
     "output_type": "stream",
     "text": [
      "jevn =  [2 4 6] \n",
      "odde =  [1 3 5 7]\n",
      "B før =  [[0. 0.]\n",
      " [0. 0.]\n",
      " [0. 0.]\n",
      " [0. 0.]\n",
      " [0. 0.]\n",
      " [0. 0.]\n",
      " [0. 0.]\n",
      " [0. 0.]]\n",
      "B etter =  [[ 0.  0.]\n",
      " [ 3.  0.]\n",
      " [ 3.  4.]\n",
      " [ 6.  0.]\n",
      " [ 6.  4.]\n",
      " [ 9.  0.]\n",
      " [ 9.  4.]\n",
      " [12.  0.]]\n",
      "TLeft =  [[1 2]\n",
      " [1 3]\n",
      " [2 3]] \n",
      "TRight =  [[1 3]\n",
      " [2 3]] \n",
      "SDLeft =  [[1 3]\n",
      " [1 4]\n",
      " [2 4]\n",
      " [3 4]] \n",
      "SDRight =  [[1 3]\n",
      " [2 3]\n",
      " [2 4]\n",
      " [3 4]] \n",
      "SFull =  [[1 3]\n",
      " [1 4]\n",
      " [2 3]\n",
      " [2 4]\n",
      " [3 4]]\n",
      "grunn =  [1]\n"
     ]
    },
    {
     "data": {
      "text/plain": [
       "<Figure size 640x480 with 0 Axes>"
      ]
     },
     "metadata": {},
     "output_type": "display_data"
    },
    {
     "data": {
      "image/png": "[encoded data removed]",
      "text/plain": [
       "<Figure size 640x480 with 1 Axes>"
      ]
     },
     "metadata": {},
     "output_type": "display_data"
    }
   ],
   "source": [
    "import matplotlib.pyplot as plt\n",
    "import numpy as np\n",
    "\n",
    "n=1\n",
    "m=2*(n+1)\n",
    "\n",
    "B = np.zeros((2*m,2)) \n",
    "\n",
    "jevn = np.arange(2,2*m,2)\n",
    "odde = np.arange(1,2*m,2)\n",
    "print(\"jevn = \", jevn, \"\\nodde = \", odde)\n",
    "\n",
    "print(\"B før = \", B)\n",
    "B[odde,0] = 3*np.arange(1,m+1)\n",
    "B[odde,1] = np.zeros(m)\n",
    "B[jevn,0] = 3*np.arange(1,m)\n",
    "B[jevn,1] = 4+np.zeros(m-1)\n",
    "print(\"B etter = \", B)\n",
    "\n",
    "TLeft = np.array([[1,2],[1,3],[2,3]])\n",
    "TRight = np.array([[1,3],[2,3]])\n",
    "SDLeft = np.array([[1,3],[1,4],[2,4],[3,4]])\n",
    "SDRight = np.array([[1,3],[2,3],[2,4],[3,4]])\n",
    "SFull = np.array([[1,3],[1,4],[2,3],[2,4],[3,4]])\n",
    "print(\"TLeft = \", TLeft, \"\\nTRight = \", TRight, \"\\nSDLeft = \", SDLeft, \"\\nSDRight = \", SDRight, \"\\nSFull = \", SFull)\n",
    "\n",
    "grunn = 1+2*np.arange(n)\n",
    "print(\"grunn = \", grunn)\n",
    "\n",
    "A = TLeft\n",
    "for i in grunn:\n",
    "    A = np.concatenate([A,i+SDRight])\n",
    "    \n",
    "for j in grunn:\n",
    "    A = np.concatenate([A,1+j+i+SDLeft])\n",
    "    \n",
    "A = np.concatenate([A,3+i+j+TRight])-1\n",
    "\n",
    "fig = plt.figure()\n",
    "\n",
    "fig, ax = plt.subplots()\n",
    "\n",
    "for k in A:\n",
    "    ax.plot(np.transpose(B[k,0]),np.transpose(B[k,1]), color='b')"
   ]
  },
  {
   "cell_type": "markdown",
   "id": "37931a45",
   "metadata": {},
   "source": [
    "Ser vi nøyere på eksempel, består det av en matrise B som inneholder koordinatene til alle noder (knutepunkter), samt en matrise A som er en liste av staver fra et knutepunkt til et annet (f eks [0,1] er en stav som kobler knutepunkt 0 til knutepunkt 1).\n",
    "\n",
    "Det vi ønsker å gjøre er å finne strekk/trykk i alle staver slik at knutepunkter står i ro. Det er et lineært system av type $L \\vec{u} = \\vec{f}$, hvor vi kan kalle $L$ for en stivhetsmatrise. Litt mer forklaring:\n",
    "1. $\\vec{u}=(u_1,u_2,\\ldots)$ er en vektor hvor $u_i$ er strekk/trykk i stav nummer $i$.\n",
    "2. $\\vec{f}=(f_{1x}, f_{1y}, f_{2x}, f_{2y}, \\ldots)$ er en vektor med $2m$ komponenter, hvor $m$ er antall noder, som inneholder eksterne krefter i $x$- og $y$-retninger på hver node.\n",
    "3. $L_{ij}$ er en matrise hvor $i=1,\\ldots,2m$ er node/retning (som i kreft-vektoren) og $j=1,\\ldots,n$ er stavnummeret (som i strekk/trykk-vektoren). Komponenten $(i,j)$ er lik\n",
    "* $\\cos(\\theta)$ hvis $i$ er en $x$-retning og stav $j$ er knyttet til node $i$, og har vinkel $\\theta$ med $x$-aksen,\n",
    "* $\\sin(\\theta)$ hvis $i$ er en $y$-retning og stav $j$ er knyttet til node $i$, og har vinkel $\\theta$ med $x$-aksen,\n",
    "* $0$ hvis ikke stav $j$ er knyttet til node $i$.\n",
    "\n",
    "En ekstra komplikasjon er at det finnes randbetingelser, dvs noder som er festet til bakken i en eller flere retninger. De funker som usynlige staver, dvs indexen $j$ kan være en slik \"reaksjonskraft\" (i tillegg til en stav). For en slik $j$ er\n",
    "* $f_j=0$\n",
    "* $L_{ij}=1$ hvis $i$ er festet til bakken i retningen som innegår i $i$\n",
    "* $L_{ij}=0$ ellers"
   ]
  },
  {
   "cell_type": "code",
   "execution_count": 2,
   "id": "ef8bf451",
   "metadata": {},
   "outputs": [],
   "source": [
    "C = np.zeros(2)\n",
    "for k in A:\n",
    "    v = B[k[1],:]-B[k[0],:]\n",
    "    v = v/np.linalg.norm(v)\n",
    "    C = np.vstack([C,v])\n",
    "C = np.delete(C,0,0)\n",
    "\n",
    "L=np.zeros([4*m,4*m])\n",
    "\n",
    "for l in np.arange(np.size(A,0)):\n",
    "    L[2*A[l,0],l] = C[l,0]\n",
    "    L[2*A[l,0]+1,l] = C[l,1]\n",
    "    L[2*A[l,1],l] = C[l,0]\n",
    "    L[2*A[l,1]+1,l] = C[l,1]\n",
    "    \n",
    "q = np.size(A,0)    \n",
    "    \n",
    "L[0,q]=1\n",
    "L[1,q+1]=1\n",
    "L[4*m-1,q+2]=1"
   ]
  },
  {
   "cell_type": "markdown",
   "id": "35c19da7",
   "metadata": {},
   "source": [
    "Vi setter opp vektoren på høyre siden ved å bestemme oss for at enkle knutepunktene er holdt i ro ved eksterne krefter. Den første noden holdes i ro ved krefter i den vertikale og den horizontale retningen, mens den siste holdes i ro kun ved en kreft i den vertikale retningen."
   ]
  },
  {
   "cell_type": "code",
   "execution_count": 3,
   "id": "c8e961a9",
   "metadata": {},
   "outputs": [
    {
     "name": "stdout",
     "output_type": "stream",
     "text": [
      "[[ 16.5]\n",
      " [-27.5]\n",
      " [ 12. ]\n",
      " [-16.5]\n",
      " [-12.5]\n",
      " [ 24. ]\n",
      " [  0. ]\n",
      " [ 16.5]\n",
      " [ 12.5]\n",
      " [-24. ]\n",
      " [ 12. ]\n",
      " [-16.5]\n",
      " [ 27.5]\n",
      " [  0. ]\n",
      " [ 22. ]\n",
      " [ 22. ]]\n"
     ]
    }
   ],
   "source": [
    "F=np.zeros([4*m,1])\n",
    "\n",
    "F[3,0]=12\n",
    "F[7,0]=20\n",
    "F[11,0]=12\n",
    "\n",
    "strekk = np.linalg.solve(L,F)\n",
    "\n",
    "print(strekk)"
   ]
  },
  {
   "cell_type": "markdown",
   "id": "df43465f",
   "metadata": {},
   "source": [
    "# Del 2: En ny klasse\n",
    "\n",
    "Målet nå er å lage et program som koder 2d fagverk på en mer robust, objekt-orientert måte, slik at det kan i senere tid lett adapteres.\n",
    "\n",
    "Under har vi kodet en ny klasse, Mesh, som skal håndtere den geometriske dataen $(A,B)$. Målet er at i fremtid det skal kunne bli brukt til forskjellige geometrier, f. eks. trekanter istedet for staver, og at det skal kunne funke i 3-dimensjoner også."
   ]
  },
  {
   "cell_type": "code",
   "execution_count": 4,
   "id": "ba27e67a",
   "metadata": {},
   "outputs": [],
   "source": [
    "from copy import copy\n",
    "from math import sqrt"
   ]
  },
  {
   "cell_type": "code",
   "execution_count": 5,
   "id": "12e6cbb6",
   "metadata": {},
   "outputs": [],
   "source": [
    "class Mesh:\n",
    "   \n",
    "    def __init__(self):\n",
    "        self._knutepunktPosisjon = [] \n",
    "        self._staver = []        \n",
    "   \n",
    "    def __str__(self):\n",
    "        return \"Antall knutepunkt = \" + str(self.antallKnutepunkt()) + \"\\n\" + \\\n",
    "               \"Knutepunktposisjoner = \" + str(self._knutepunktPosisjon) + \"\\n\" + \\\n",
    "               \"Antall staver = \" + str(self.antallStaver()) + \"\\n\" + \\\n",
    "               \"Staver = \" + str(self._staver)          \n",
    "                       \n",
    "    # Antall knutepunkt i modellen    \n",
    "    def antallKnutepunkt(self):\n",
    "        return len(self._knutepunktPosisjon)\n",
    "                   \n",
    "    # Setter posisjonen til et knutepunkt        \n",
    "    def settKnutepunktPosisjon(self, knutepunktIndex, nyPosisjon):\n",
    "        self._knutepunktPosisjon[knutepunktIndex] = nyPosisjon\n",
    "       \n",
    "    # Legger til knutepunkt\n",
    "    def leggTilKnutepunkt(self, posisjon):\n",
    "        self._knutepunktPosisjon.append(posisjon)      \n",
    "\n",
    "    # finner posisjonen til et knutepunkt\n",
    "    def knutepunktPosisjon(self, knutepunktIndex):\n",
    "        return self._knutepunktPosisjon[knutepunktIndex]\n",
    "\n",
    "    # legger til en liste med flere staver        \n",
    "    def leggTilFlereStaver(self, listeKnutepunkter):\n",
    "        self._staver += listeKnutepunkter\n",
    "       \n",
    "    # Gir antall staver\n",
    "    def antallStaver(self):\n",
    "        return len(self._staver)\n",
    "       \n",
    "    # Endrer knutepunktene til en stav    \n",
    "    def endreKnutepunktTilStav(self, stavIndex, knutepunkt):\n",
    "        self._stav[stavIndex] = knutepunkt        \n",
    "       \n",
    "    # Gir knutepunktet til en stav\n",
    "    def knutepunktTilStav(self, stavIndex):\n",
    "        return self._staver[stavIndex]\n",
    "   \n",
    "\n",
    "       "
   ]
  },
  {
   "cell_type": "markdown",
   "id": "0714b846",
   "metadata": {},
   "source": [
    "## Oppgave 1:\n",
    "\n",
    "Noen metoder mangler. Fyll dem ut selv."
   ]
  },
  {
   "cell_type": "code",
   "execution_count": 6,
   "id": "5b671632",
   "metadata": {},
   "outputs": [
    {
     "ename": "IndentationError",
     "evalue": "expected an indented block (<ipython-input-6-06b777220754>, line 7)",
     "output_type": "error",
     "traceback": [
      "\u001b[0;36m  File \u001b[0;32m\"<ipython-input-6-06b777220754>\"\u001b[0;36m, line \u001b[0;32m7\u001b[0m\n\u001b[0;31m    def leggTilStav(self, knutepunkter):\u001b[0m\n\u001b[0m    ^\u001b[0m\n\u001b[0;31mIndentationError\u001b[0m\u001b[0;31m:\u001b[0m expected an indented block\n"
     ]
    }
   ],
   "source": [
    "    # legg til liste med nye knutepunkt        \n",
    "    def leggTilFlereKnutepunkt(self, posisjon):\n",
    "    # mangler\n",
    "        \n",
    "           \n",
    "    # legger til en stav\n",
    "    def leggTilStav(self, knutepunkter):\n",
    "    # mangler\n",
    "    \n",
    "    # Gir en liste med de stavene som er koblet til et knutepunkt\n",
    "    def staverInnTilKnutepunkt(self, knutepunktIndex):\n",
    "    # mangler"
   ]
  },
  {
   "cell_type": "markdown",
   "id": "0cce3294",
   "metadata": {},
   "source": [
    "Her kommer en iterator."
   ]
  },
  {
   "cell_type": "code",
   "execution_count": null,
   "id": "6d926d6f",
   "metadata": {},
   "outputs": [],
   "source": [
    "class MeshIter:\n",
    "   \n",
    "    def __init__(self, mesh):\n",
    "        self._start = 0;\n",
    "        self._mesh = mesh\n",
    "        self._stop = self._mesh.antallStaver() - 1\n",
    "        self._num = 0\n",
    "       \n",
    "    def __iter__(self):\n",
    "        return self\n",
    "       \n",
    "    def __next__(self):\n",
    "        if self._num > self._stop:\n",
    "            raise StopIteration\n",
    "        else:\n",
    "            self._num += 1\n",
    "            return self._mesh.knutepunktTilStav(self._num-1)"
   ]
  },
  {
   "cell_type": "markdown",
   "id": "061b5b3f",
   "metadata": {},
   "source": [
    "## Oppgave 2:\n",
    "\n",
    "Det finnes mangler i funksjonen som lager Stivhetsmatrisa. Fyll ut."
   ]
  },
  {
   "cell_type": "code",
   "execution_count": null,
   "id": "25d9f09c",
   "metadata": {},
   "outputs": [],
   "source": [
    "import numpy as np\n",
    "       \n",
    "def lagStivhetsmatrise(mesh, knutepunktFastX, knutepunktFastY):\n",
    "    m = mesh.antallKnutepunkt()\n",
    "    matrise = np.zeros((2*m, 2*m))\n",
    "    n = 0\n",
    "    for stav in MeshIter(mesh):\n",
    "        # mangler\n",
    "    for i in knutepunktFastX:\n",
    "        # mangler\n",
    "    for i in knutepunktFastY:\n",
    "        # mangler\n",
    "    return matrise\n"
   ]
  },
  {
   "cell_type": "markdown",
   "id": "66c12128",
   "metadata": {},
   "source": [
    "## Oppgave 3:\n",
    "\n",
    "Løs sytemet fra innføringen ved å bruke koden under."
   ]
  },
  {
   "cell_type": "code",
   "execution_count": null,
   "id": "6302326a",
   "metadata": {},
   "outputs": [],
   "source": [
    "mesh = Mesh()\n",
    "mesh.leggTilFlereKnutepunkt([[ 0. , 0.], [ 3.,  0.], [ 3.,  4.], [ 6. , 0.], [ 6. , 4.], [ 9.,  0.], [ 9. , 4.], [12.,  0.]])\n",
    "mesh.leggTilFlereStaver([[0, 1], [0, 2], [1, 2], [1, 3], [2, 3], [2, 4], [3, 4], [3, 5], [3, 6], [4, 6], [5, 6], [5, 7], [6, 7]])\n",
    "\n",
    "print(mesh)\n",
    "\n",
    "L = lagStivhetsmatrise(mesh, [0], [0,7])\n",
    "\n",
    "# mangler"
   ]
  },
  {
   "cell_type": "markdown",
   "id": "f5ef1b2d",
   "metadata": {},
   "source": [
    "## Oppgave 4:\n",
    "\n",
    "Koden er fortsett verken pen eller robust.\n",
    "\n",
    "1. Hva hvis noen bruker klassen feil, f eks kobler en stav til en node som ikke finnes. Legg inn feilsjekk i \"leggTilFlereStaver\" og \"leggTilStav\"\n",
    "2. Koden er veldig dårlig kommentert, så utvid med gode kommentarer. \n",
    " \n"
   ]
  }
 ],
 "metadata": {
  "kernelspec": {
   "display_name": "Python 3",
   "language": "python",
   "name": "python3"
  },
  "language_info": {
   "codemirror_mode": {
    "name": "ipython",
    "version": 3
   },
   "file_extension": ".py",
   "mimetype": "text/x-python",
   "name": "python",
   "nbconvert_exporter": "python",
   "pygments_lexer": "ipython3",
   "version": "3.11.5"
  }
 },
 "nbformat": 4,
 "nbformat_minor": 5
}
